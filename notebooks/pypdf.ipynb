{
 "cells": [
  {
   "cell_type": "code",
   "execution_count": null,
   "id": "0",
   "metadata": {},
   "outputs": [],
   "source": [
    "from pypdf import PdfReader"
   ]
  },
  {
   "cell_type": "code",
   "execution_count": null,
   "id": "1",
   "metadata": {
    "editable": true,
    "slideshow": {
     "slide_type": ""
    },
    "tags": [
     "keep_output"
    ]
   },
   "outputs": [
    {
     "name": "stdout",
     "output_type": "stream",
     "text": [
      "Bi-criteriaAlgorithmfor Scheduling Jobs on Cluster\n",
      "Platforms∗\n",
      "Pierre-Franc ¸ois Dutot\n",
      "ID-IMAG\n",
      "51avenue JeanKuntzmann\n",
      "38330 Montbonnot Saint-Martin,France\n",
      "pfdutot@imag.frLionelEyraud\n",
      "ID-IMAG\n",
      "51avenue JeanKuntzmann\n",
      "38330 Montbonnot Saint-Martin,France\n",
      "Lionel.Eyraud@imag.fr\n",
      "Gr´ egory Mouni´ e\n",
      "ID-IMAG\n",
      "51avenue JeanKuntzmann\n",
      "38330 Montbonnot Saint-Martin,France\n",
      "Gregory.Mounie@imag.frDenis Trystram\n",
      "ID-IMAG\n",
      "51avenue JeanKuntzmann\n",
      "38330 Montbonnot Saint-Martin,France\n",
      "Denis.Trystram@imag.fr\n",
      "ABSTRACT\n",
      "We describe in this paper a new method for building an\n",
      "eﬃcient algorithm for scheduling jobs in a cluster. Jobs are\n",
      "considered as parallel tasks (PT) which can be scheduled on\n",
      "any number of processors. The main feature is to consider\n",
      "two criteria that are optimized together. These criteria ar e\n",
      "themakespan and the weighted minimal average completion\n",
      "time (minsum ). They are chosen for their complementarity,\n",
      "to be able to represent both user-oriented objectives and\n",
      "system administrator objectives.\n",
      "We propose an algorithm based on a batch policy with\n",
      "increasing batch sizes, with a smart selection of jobs in eac h\n",
      "batch. This algorithm is assessed by intensive simulation\n",
      "results, compared to a new lower bound (obtained by a re-\n",
      "laxation of ILP) of the optimal schedules for both criteria\n",
      "separately. It is currently implemented in an actual real-s ize\n",
      "cluster platform.\n",
      "Categories andSubjectDescriptors\n",
      "F.2.2 [Analysis of Algorithms and Problem Complex-\n",
      "ity]: Nonnumerical Algorithms and Problems— Sequencing\n",
      "and scheduling ; D.4.1 [ Operating Systems ]: Process man-\n",
      "agement— Scheduling, Concurrency\n",
      "General Terms\n",
      "Algorithms, Management\n",
      "∗Authors are members of the APACHE project supported\n",
      "by CNRS, INPG, INRIA, UJF\n",
      "Permission to make digital or hard copies of all or part of thi s work for\n",
      "personal or classroom use is granted without fee provided th at copies are\n",
      "not made or distributed for proﬁt or commercial advantage an d that copies\n",
      "bearthis noticeand thefull citation on theﬁrstpage. Tocop y otherwise,to\n",
      "republish,topostonserversortoredistributetolists,re quirespriorspeciﬁc\n",
      "permissionand/or afee.\n",
      "SPAA'04, June27–30, 2004, Barcelona, Spain.\n",
      "Copyright 2004 ACM 1-58113-840-7/04/0006 ... $5.00.Keywords\n",
      "Parallel Computing, Algorithms, Scheduling, Parallel Tas ks,\n",
      "Moldable Tasks, Bi-criteria\n",
      "1. INTRODUCTION\n",
      "1.1 Cluster computing\n",
      "The last few years have been characterized by huge tech-\n",
      "nological changes in the area of parallel and distributed\n",
      "computing. Today, powerful machines are available at low\n",
      "price everywhere in the world. The main visible line of such\n",
      "changes is the large spreading of clusters which consist in a\n",
      "collection of tens or hundreds of standard almost identical\n",
      "processors connected together by a high speed interconnec-\n",
      "tion network [6]. The next natural step is the extension to\n",
      "local sets of clusters or to geographically distant grids [1 0].\n",
      "In the last issue of the Top500 ranking (from November\n",
      "2003 [1]), 52 networks of workstations (NOW) of diﬀerent\n",
      "kinds were listed and 123 entries are clusters sold either by\n",
      "IBM, HP or Dell. Looking at previous rankings we can see\n",
      "that this number (within the Top500) approximately dou-\n",
      "bled each year.\n",
      "This democratization of clusters calls for new practical\n",
      "administration tools. Even if more and more applications\n",
      "are running on such systems, there is no consensus towards\n",
      "an universal way of managing eﬃciently the computing re-\n",
      "sources. Current available scheduling algorithms were mai nly\n",
      "created to provide schedules with performance guaranties f or\n",
      "the makespan criterion (maximum execution time of the last\n",
      "job), however most of them are pseudo-polynomial, therefor e\n",
      "the time needed to run these algorithms on real instances\n",
      "and the diﬃculty of their implementation is a drawback for\n",
      "a more popular use.\n",
      "We present in this paper a new method for scheduling\n",
      "the jobs submitted to a cluster inspired by several exist-\n",
      "ing theoretically well-founded algorithms. This method ha s\n",
      "been assessed on simulations and it is currently tested on\n",
      "actual conditions of use on a large cluster composed by 104\n",
      "bi-processor machines from Compaq (this cluster – called\n",
      "Icluster2 – was ranked 151 in the Top500 in June 2003).\n"
     ]
    }
   ],
   "source": [
    "reader = PdfReader(\"../data/pdfs/sample.pdf\")\n",
    "number_of_pages = len(reader.pages)\n",
    "page = reader.pages[0]\n",
    "text = page.extract_text()\n",
    "\n",
    "print(text)"
   ]
  },
  {
   "cell_type": "code",
   "execution_count": null,
   "id": "2",
   "metadata": {
    "editable": true,
    "slideshow": {
     "slide_type": ""
    },
    "tags": []
   },
   "outputs": [],
   "source": []
  }
 ],
 "metadata": {
  "language_info": {
   "name": "python"
  }
 },
 "nbformat": 4,
 "nbformat_minor": 5
}

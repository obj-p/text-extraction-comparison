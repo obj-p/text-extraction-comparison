{
 "cells": [
  {
   "cell_type": "markdown",
   "id": "0",
   "metadata": {},
   "source": [
    "Make sure that the GROBID service is running using `make grobid-run`. For arm64 devices, consult the README.md for extra instructions."
   ]
  },
  {
   "cell_type": "code",
   "execution_count": null,
   "id": "1",
   "metadata": {},
   "outputs": [],
   "source": [
    "import multiprocessing\n",
    "\n",
    "from grobid_client.grobid_client import GrobidClient"
   ]
  },
  {
   "cell_type": "code",
   "execution_count": null,
   "id": "2",
   "metadata": {},
   "outputs": [],
   "source": [
    "grobid_server = \"http://localhost:8070\"\n",
    "n = 2 * multiprocessing.cpu_count()  # Assumes hyperthreading\n",
    "output = \"../data/grobid\"\n",
    "pdfs = \"../data/pdfs\"\n",
    "\n",
    "client = GrobidClient(grobid_server=grobid_server)"
   ]
  },
  {
   "cell_type": "code",
   "execution_count": null,
   "id": "3",
   "metadata": {},
   "outputs": [],
   "source": [
    "client.process(\"processFulltextDocument\", pdfs, output=output, n=n)"
   ]
  },
  {
   "cell_type": "code",
   "execution_count": null,
   "id": "4",
   "metadata": {},
   "outputs": [],
   "source": []
  }
 ],
 "metadata": {
  "language_info": {
   "name": "python"
  }
 },
 "nbformat": 4,
 "nbformat_minor": 5
}
